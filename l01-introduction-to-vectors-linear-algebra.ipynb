{
 "cells": [
  {
   "cell_type": "code",
   "execution_count": 1,
   "id": "0d97f993",
   "metadata": {
    "_cell_guid": "b1076dfc-b9ad-4769-8c92-a6c4dae69d19",
    "_uuid": "8f2839f25d086af736a60e9eeb907d3b93b6e0e5",
    "execution": {
     "iopub.execute_input": "2022-04-04T17:08:14.864096Z",
     "iopub.status.busy": "2022-04-04T17:08:14.863516Z",
     "iopub.status.idle": "2022-04-04T17:08:14.866169Z",
     "shell.execute_reply": "2022-04-04T17:08:14.865583Z",
     "shell.execute_reply.started": "2022-04-04T12:30:25.227054Z"
    },
    "papermill": {
     "duration": 0.023195,
     "end_time": "2022-04-04T17:08:14.866291",
     "exception": false,
     "start_time": "2022-04-04T17:08:14.843096",
     "status": "completed"
    },
    "tags": []
   },
   "outputs": [],
   "source": [
    "# This Python 3 environment comes with many helpful analytics libraries installed\n",
    "# It is defined by the kaggle/python Docker image: https://github.com/kaggle/docker-python\n",
    "# For example, here's several helpful packages to load\n",
    "\n",
    "import numpy as np # linear algebra\n",
    "import pandas as pd # data processing, CSV file I/O (e.g. pd.read_csv)\n",
    "\n",
    "# Input data files are available in the read-only \"../input/\" directory\n",
    "# For example, running this (by clicking run or pressing Shift+Enter) will list all files under the input directory\n",
    "\n",
    "import os\n",
    "for dirname, _, filenames in os.walk('/kaggle/input'):\n",
    "    for filename in filenames:\n",
    "        print(os.path.join(dirname, filename))\n",
    "\n",
    "# You can write up to 20GB to the current directory (/kaggle/working/) that gets preserved as output when you create a version using \"Save & Run All\" \n",
    "# You can also write temporary files to /kaggle/temp/, but they won't be saved outside of the current session"
   ]
  },
  {
   "cell_type": "markdown",
   "id": "08026441",
   "metadata": {
    "papermill": {
     "duration": 0.004965,
     "end_time": "2022-04-04T17:08:14.877047",
     "exception": false,
     "start_time": "2022-04-04T17:08:14.872082",
     "status": "completed"
    },
    "tags": []
   },
   "source": [
    "## POINTS AND VECTORS\n",
    "A Point has position in space. The only characteristic that distinguishes one point from another is its position. A Vector has both magnitude and direction, but no fixed position in space. Geometrically, we draw points as dots and vectors as line segments with arrows.\n",
    "\n",
    "\n",
    "Vectors and points are very different things, they often seem similar to programmers because they are usually represented the same way in a programming context (a set of xyz coords). A point represents a location, a vector represents a direction and a magnitude. When you store a vector as x,y,z what you''re saying is that the vector represents the direction of a line beginning at 0,0,0 and ending at the point x,y,z with a magnitude of sqrt(x*x + y*y + z*z).\n",
    "\n",
    "Another way of stating the difference is that because a vector is just a direction, the points where it begins and ends do not matter. The vector from 0,0,0 to x,y,z is the same as the vector from 1,1,1 to x+1,y+1,z+1 because their magnitudes and directions are the same. In programming you generally assume all vectors begin at 0,0,0 for simplicity.\n",
    "\n",
    "![](https://slideplayer.com/slide/9396372/28/images/8/Points+and+Vectors+Point+q+vector+%28p-q%29+Point+p.jpg)\n",
    "\n",
    "In fact you don''t even need to use xyz coords to represent vectors, because you can represent direction in other ways, such as angles. But I don''t feel like going into much more depth about that because xyz coords are generally the most useful way to do vectors in programming land. Learning vectors in programming land sucks because they seem identical to points. Learn them in math land instead. Read about them on the web or in a book that is _not_ oriented towards programming and you''ll probably understand much better."
   ]
  },
  {
   "cell_type": "markdown",
   "id": "cf089efd",
   "metadata": {
    "papermill": {
     "duration": 0.004833,
     "end_time": "2022-04-04T17:08:14.886986",
     "exception": false,
     "start_time": "2022-04-04T17:08:14.882153",
     "status": "completed"
    },
    "tags": []
   },
   "source": [
    "## Distance of a Point from Origin\n",
    "![](https://gradeup-question-images.grdp.co/liveData/PROJ12650/1517815938519598.jpg)<br>\n",
    "Using Pythagorean theorem we can calculate the length of the hypotenuse \n",
    "* sqrt(x*x + y*y) for 2D Space\n",
    "* sqrt(x*x + y*y + z*z for 3D space\n",
    "* sqrt(x*x + y*y + z*z + ........... +n*n ) for nD space"
   ]
  },
  {
   "cell_type": "markdown",
   "id": "0f95bf81",
   "metadata": {
    "papermill": {
     "duration": 0.004954,
     "end_time": "2022-04-04T17:08:14.897192",
     "exception": false,
     "start_time": "2022-04-04T17:08:14.892238",
     "status": "completed"
    },
    "tags": []
   },
   "source": [
    "## Distance Between Two Points in 2D Space\n",
    "The 2D distance between two points is measured by the distance formula. Consider points P1 and P2, with coordinates given as P1(x1, y1) and P2(x2,y2). Therefore, the distance between them would be denoted by d, where:\n",
    "\n",
    "d = √[( y2 –  y1)² + ( x1 –  x2)²]\n",
    "\n",
    "## Distance Between Two Points in 3D Space\n",
    "Distance Between 2 Points Formula in 3D\n",
    "\n",
    "The distance between two points P(x1, y1, z1) and Q(x2, y2, z2) = PQ = √[(x2 – x1)2 + (y2 – y1)2 + (z2 – z1)2]\n",
    "\n",
    "\n",
    "## Distance Between Two Points in nD Space\n",
    "![](https://www.gstatic.com/education/formulas2/397133473/en/euclidean_distance.svg)<br>\n",
    "In mathematics, the Euclidean distance between two points in Euclidean space is the length of a line segment between the two points. It can be calculated from the Cartesian coordinates of the points using the Pythagorean theorem, therefore occasionally being called the Pythagorean distance."
   ]
  },
  {
   "cell_type": "markdown",
   "id": "74176e6f",
   "metadata": {
    "papermill": {
     "duration": 0.004993,
     "end_time": "2022-04-04T17:08:14.907328",
     "exception": false,
     "start_time": "2022-04-04T17:08:14.902335",
     "status": "completed"
    },
    "tags": []
   },
   "source": [
    "# What is the difference between row vector and column vector?\n",
    "![](https://study.com/cimages/multimages/16/vector_dimensions.png)<br>\n",
    "A column vector is an nx1 matrix because it always has 1 column and some number of rows. A row vector is a 1xn matrix, as it has 1 row and some number of columns. This is the major difference between a column and a row vector"
   ]
  },
  {
   "cell_type": "markdown",
   "id": "f3a781d6",
   "metadata": {
    "papermill": {
     "duration": 0.004908,
     "end_time": "2022-04-04T17:08:14.917463",
     "exception": false,
     "start_time": "2022-04-04T17:08:14.912555",
     "status": "completed"
    },
    "tags": []
   },
   "source": [
    "# Solved Question for You\n",
    "**Question 1: Can the distance between any two points be negative?**\n",
    "\n",
    "Answer: No, the distance between 2 points cannot be negative. This can be thought of in terms of 3 reasons:\n",
    "\n",
    "* Distance is used to denote a physical quantity, expressing how far two points are from each other, and such a quantity cannot be negative.\n",
    "* Distance is equal to the square root of the sum of two positive numbers. The sum of two positive numbers is always positive, and the square root of a positive number is always positive.\n",
    "* In the exceptional case that the distance between 2 points is zero, it is still a non-negative value, hence the distance cannot be negative.<br>\n",
    "This concludes our discussion on the topic – distance between two points.\n",
    "\n",
    "**Question 2: How to find Y-intercept?**\n",
    "\n",
    "Answer: We can find the Y-intercept using the equation of the line. Put zero for the x variable and solve for y. Moreover, if the equation is written in the slope-intercept form then put in the slope and the x and y coordinates for a point on the line to solve for y.\n",
    "\n",
    "**Question 3: What is the distance between two points?**\n",
    "\n",
    "Answer: Basically, the distance between two points is the length of the line segment that connects them. Most importantly, the distance between two points is always positive and segments that have equal length are called congruent segments.\n",
    "\n",
    "**Question 4: What is the formula for distance between two points?**\n",
    "\n",
    "Answer: The formula of distance between two points is P(x1, y1) and Q(x2, y2) is given by: d (P, Q) = √ (x2 – x1) + (y2 – y1) 2. While the distance of a point is P(x, y) from the origin is given by d(0, P) = √ x2 + y2.\n",
    "\n",
    "**Question 5: What is the minimum distance?**\n",
    "\n",
    "Answer: Minimum distance refers to the estimation of the statistical methods for fitting a model to data. Moreover, the closest pair of points problem, the algorithmic problems of two points that have the minimum distance among a larger set of points.\n"
   ]
  },
  {
   "cell_type": "code",
   "execution_count": null,
   "id": "0cfea43a",
   "metadata": {
    "papermill": {
     "duration": 0.004911,
     "end_time": "2022-04-04T17:08:14.927397",
     "exception": false,
     "start_time": "2022-04-04T17:08:14.922486",
     "status": "completed"
    },
    "tags": []
   },
   "outputs": [],
   "source": []
  }
 ],
 "metadata": {
  "kernelspec": {
   "display_name": "Python 3",
   "language": "python",
   "name": "python3"
  },
  "language_info": {
   "codemirror_mode": {
    "name": "ipython",
    "version": 3
   },
   "file_extension": ".py",
   "mimetype": "text/x-python",
   "name": "python",
   "nbconvert_exporter": "python",
   "pygments_lexer": "ipython3",
   "version": "3.7.12"
  },
  "papermill": {
   "default_parameters": {},
   "duration": 12.38841,
   "end_time": "2022-04-04T17:08:15.541463",
   "environment_variables": {},
   "exception": null,
   "input_path": "__notebook__.ipynb",
   "output_path": "__notebook__.ipynb",
   "parameters": {},
   "start_time": "2022-04-04T17:08:03.153053",
   "version": "2.3.3"
  }
 },
 "nbformat": 4,
 "nbformat_minor": 5
}
