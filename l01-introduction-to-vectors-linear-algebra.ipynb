{
 "cells": [
  {
   "cell_type": "markdown",
   "id": "0fa79e9a",
   "metadata": {
    "papermill": {
     "duration": 0.006245,
     "end_time": "2022-04-04T17:31:59.362160",
     "exception": false,
     "start_time": "2022-04-04T17:31:59.355915",
     "status": "completed"
    },
    "tags": []
   },
   "source": [
    "## POINTS AND VECTORS\n",
    "A Point has position in space. The only characteristic that distinguishes one point from another is its position. A Vector has both magnitude and direction, but no fixed position in space. Geometrically, we draw points as dots and vectors as line segments with arrows.\n",
    "\n",
    "\n",
    "Vectors and points are very different things, they often seem similar to programmers because they are usually represented the same way in a programming context (a set of xyz coords). A point represents a location, a vector represents a direction and a magnitude. When you store a vector as x,y,z what you''re saying is that the vector represents the direction of a line beginning at 0,0,0 and ending at the point x,y,z with a magnitude of sqrt(x*x + y*y + z*z).\n",
    "\n",
    "Another way of stating the difference is that because a vector is just a direction, the points where it begins and ends do not matter. The vector from 0,0,0 to x,y,z is the same as the vector from 1,1,1 to x+1,y+1,z+1 because their magnitudes and directions are the same. In programming you generally assume all vectors begin at 0,0,0 for simplicity.\n",
    "\n",
    "![](https://slideplayer.com/slide/9396372/28/images/8/Points+and+Vectors+Point+q+vector+%28p-q%29+Point+p.jpg)\n",
    "\n",
    "In fact you don''t even need to use xyz coords to represent vectors, because you can represent direction in other ways, such as angles. But I don''t feel like going into much more depth about that because xyz coords are generally the most useful way to do vectors in programming land. Learning vectors in programming land sucks because they seem identical to points. Learn them in math land instead. Read about them on the web or in a book that is _not_ oriented towards programming and you''ll probably understand much better."
   ]
  },
  {
   "cell_type": "markdown",
   "id": "c5938711",
   "metadata": {
    "papermill": {
     "duration": 0.004734,
     "end_time": "2022-04-04T17:31:59.374536",
     "exception": false,
     "start_time": "2022-04-04T17:31:59.369802",
     "status": "completed"
    },
    "tags": []
   },
   "source": [
    "## Distance of a Point from Origin\n",
    "![](https://gradeup-question-images.grdp.co/liveData/PROJ12650/1517815938519598.jpg)<br>\n",
    "Using Pythagorean theorem we can calculate the length of the hypotenuse \n",
    "* sqrt(x*x + y*y) for 2D Space\n",
    "* sqrt(x*x + y*y + z*z for 3D space\n",
    "* sqrt(x*x + y*y + z*z + ........... +n*n ) for nD space"
   ]
  },
  {
   "cell_type": "markdown",
   "id": "d23c2646",
   "metadata": {
    "papermill": {
     "duration": 0.004525,
     "end_time": "2022-04-04T17:31:59.384099",
     "exception": false,
     "start_time": "2022-04-04T17:31:59.379574",
     "status": "completed"
    },
    "tags": []
   },
   "source": [
    "## Distance Between Two Points in 2D Space\n",
    "The 2D distance between two points is measured by the distance formula. Consider points P1 and P2, with coordinates given as P1(x1, y1) and P2(x2,y2). Therefore, the distance between them would be denoted by d, where:\n",
    "\n",
    "d = √[( y2 –  y1)² + ( x1 –  x2)²]\n",
    "\n",
    "## Distance Between Two Points in 3D Space\n",
    "Distance Between 2 Points Formula in 3D\n",
    "\n",
    "The distance between two points P(x1, y1, z1) and Q(x2, y2, z2) = PQ = √[(x2 – x1)2 + (y2 – y1)2 + (z2 – z1)2]\n",
    "\n",
    "\n",
    "## Distance Between Two Points in nD Space\n",
    "![](https://www.gstatic.com/education/formulas2/397133473/en/euclidean_distance.svg)<br>\n",
    "In mathematics, the Euclidean distance between two points in Euclidean space is the length of a line segment between the two points. It can be calculated from the Cartesian coordinates of the points using the Pythagorean theorem, therefore occasionally being called the Pythagorean distance."
   ]
  },
  {
   "cell_type": "markdown",
   "id": "7b177e79",
   "metadata": {
    "papermill": {
     "duration": 0.004394,
     "end_time": "2022-04-04T17:31:59.393300",
     "exception": false,
     "start_time": "2022-04-04T17:31:59.388906",
     "status": "completed"
    },
    "tags": []
   },
   "source": [
    "# What is the difference between row vector and column vector?\n",
    "![](https://study.com/cimages/multimages/16/vector_dimensions.png)<br>\n",
    "A column vector is an nx1 matrix because it always has 1 column and some number of rows. A row vector is a 1xn matrix, as it has 1 row and some number of columns. This is the major difference between a column and a row vector"
   ]
  },
  {
   "cell_type": "markdown",
   "id": "881dae47",
   "metadata": {
    "papermill": {
     "duration": 0.004424,
     "end_time": "2022-04-04T17:31:59.402433",
     "exception": false,
     "start_time": "2022-04-04T17:31:59.398009",
     "status": "completed"
    },
    "tags": []
   },
   "source": [
    "# Solved Question for You\n",
    "**Question 1: Can the distance between any two points be negative?**\n",
    "\n",
    "Answer: No, the distance between 2 points cannot be negative. This can be thought of in terms of 3 reasons:\n",
    "\n",
    "* Distance is used to denote a physical quantity, expressing how far two points are from each other, and such a quantity cannot be negative.\n",
    "* Distance is equal to the square root of the sum of two positive numbers. The sum of two positive numbers is always positive, and the square root of a positive number is always positive.\n",
    "* In the exceptional case that the distance between 2 points is zero, it is still a non-negative value, hence the distance cannot be negative.<br>\n",
    "This concludes our discussion on the topic – distance between two points.\n",
    "\n",
    "**Question 2: How to find Y-intercept?**\n",
    "\n",
    "Answer: We can find the Y-intercept using the equation of the line. Put zero for the x variable and solve for y. Moreover, if the equation is written in the slope-intercept form then put in the slope and the x and y coordinates for a point on the line to solve for y.\n",
    "\n",
    "**Question 3: What is the distance between two points?**\n",
    "\n",
    "Answer: Basically, the distance between two points is the length of the line segment that connects them. Most importantly, the distance between two points is always positive and segments that have equal length are called congruent segments.\n",
    "\n",
    "**Question 4: What is the formula for distance between two points?**\n",
    "\n",
    "Answer: The formula of distance between two points is P(x1, y1) and Q(x2, y2) is given by: d (P, Q) = √ (x2 – x1) + (y2 – y1) 2. While the distance of a point is P(x, y) from the origin is given by d(0, P) = √ x2 + y2.\n",
    "\n",
    "**Question 5: What is the minimum distance?**\n",
    "\n",
    "Answer: Minimum distance refers to the estimation of the statistical methods for fitting a model to data. Moreover, the closest pair of points problem, the algorithmic problems of two points that have the minimum distance among a larger set of points.\n"
   ]
  }
 ],
 "metadata": {
  "kernelspec": {
   "display_name": "Python 3",
   "language": "python",
   "name": "python3"
  },
  "language_info": {
   "codemirror_mode": {
    "name": "ipython",
    "version": 3
   },
   "file_extension": ".py",
   "mimetype": "text/x-python",
   "name": "python",
   "nbconvert_exporter": "python",
   "pygments_lexer": "ipython3",
   "version": "3.7.12"
  },
  "papermill": {
   "default_parameters": {},
   "duration": 10.839253,
   "end_time": "2022-04-04T17:32:00.221929",
   "environment_variables": {},
   "exception": null,
   "input_path": "__notebook__.ipynb",
   "output_path": "__notebook__.ipynb",
   "parameters": {},
   "start_time": "2022-04-04T17:31:49.382676",
   "version": "2.3.3"
  }
 },
 "nbformat": 4,
 "nbformat_minor": 5
}
